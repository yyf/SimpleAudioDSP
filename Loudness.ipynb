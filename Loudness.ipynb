{
 "cells": [
  {
   "cell_type": "code",
   "execution_count": 2,
   "id": "c0c6d708",
   "metadata": {},
   "outputs": [
    {
     "name": "stdout",
     "output_type": "stream",
     "text": [
      "Loudness: -3.01 dB\n",
      "Loudness: -15.13 dB\n"
     ]
    },
    {
     "name": "stderr",
     "output_type": "stream",
     "text": [
      "/var/folders/b0/m80gf4wx3pvdbp860pz1fqwc0000gn/T/ipykernel_51552/2290662283.py:11: WavFileWarning: Chunk (non-data) not understood, skipping it.\n",
      "  sample_rate, audio = wav_read(file_path)\n"
     ]
    }
   ],
   "source": [
    "import numpy as np\n",
    "from scipy.io.wavfile import read as wav_read\n",
    "\n",
    "def compute_loudness(file_path):\n",
    "    \"\"\"\n",
    "    Compute the loudness of an audio file using RMS.\n",
    "    :param file_path: Path to the audio file\n",
    "    :return: Loudness in dB\n",
    "    \"\"\"\n",
    "    # Load the audio file\n",
    "    sample_rate, audio = wav_read(file_path)\n",
    "    \n",
    "    # If stereo, convert to mono\n",
    "    if len(audio.shape) > 1:\n",
    "        audio = np.mean(audio, axis=1)\n",
    "    \n",
    "    # Normalize the audio to range [-1, 1]\n",
    "    audio = audio / np.max(np.abs(audio))\n",
    "    \n",
    "    # Compute RMS (Root Mean Square)\n",
    "    rms = np.sqrt(np.mean(audio**2))\n",
    "    \n",
    "    # Convert RMS to dB\n",
    "    loudness_db = 20 * np.log10(rms)\n",
    "    \n",
    "    return loudness_db\n",
    "\n",
    "# Example usage\n",
    "file_path = \"Data/sine_wave_44100Hz_16bit_1min.wav\"\n",
    "loudness = compute_loudness(file_path)\n",
    "print(f\"Loudness: {loudness:.2f} dB\")\n",
    "\n",
    "# Example usage for the music file\n",
    "file_path = \"Data/CTHS3_Acid_Bass_Loop_01_C_123.wav\"\n",
    "loudness = compute_loudness(file_path)\n",
    "print(f\"Loudness: {loudness:.2f} dB\")\n"
   ]
  },
  {
   "cell_type": "code",
   "execution_count": 6,
   "id": "bd88e2f2",
   "metadata": {},
   "outputs": [
    {
     "name": "stdout",
     "output_type": "stream",
     "text": [
      "Sine Wave - LUFS: -3.01 dB, Peak Amplitude: 1.00, Crest Factor: 3.01 dB, Loudness: -3.01 dB\n",
      "Music File - LUFS: -15.17 dB, Peak Amplitude: 1.00, Crest Factor: 15.17 dB, Loudness: -15.13 dB\n"
     ]
    },
    {
     "name": "stderr",
     "output_type": "stream",
     "text": [
      "/var/folders/b0/m80gf4wx3pvdbp860pz1fqwc0000gn/T/ipykernel_51552/2277169083.py:25: WavFileWarning: Chunk (non-data) not understood, skipping it.\n",
      "  sample_rate, audio = wav_read(file_path)\n"
     ]
    }
   ],
   "source": [
    "import numpy as np\n",
    "from scipy.io.wavfile import read as wav_read\n",
    "from scipy.signal import lfilter\n",
    "\n",
    "def k_weighting_filter(audio, sample_rate):\n",
    "    \"\"\"\n",
    "    Apply K-weighting filter as per ITU-R BS.1770.\n",
    "    :param audio: Input audio signal\n",
    "    :param sample_rate: Sampling rate of the audio\n",
    "    :return: Filtered audio signal\n",
    "    \"\"\"\n",
    "    # Pre-emphasis filter coefficients for K-weighting\n",
    "    b = [1, -1]\n",
    "    a = [1, -0.999]\n",
    "    pre_emphasized = lfilter(b, a, audio)\n",
    "    return pre_emphasized\n",
    "\n",
    "def compute_audio_metrics(file_path):\n",
    "    \"\"\"\n",
    "    Compute LUFS, peak amplitude, crest factor, and loudness of an audio file.\n",
    "    :param file_path: Path to the audio file\n",
    "    :return: LUFS (dB), peak amplitude, crest factor (dB), loudness (dB)\n",
    "    \"\"\"\n",
    "    # Load the audio file\n",
    "    sample_rate, audio = wav_read(file_path)\n",
    "    \n",
    "    # If stereo, convert to mono\n",
    "    if len(audio.shape) > 1:\n",
    "        audio = np.mean(audio, axis=1)\n",
    "    \n",
    "    # Normalize the audio to range [-1, 1]\n",
    "    audio = audio / np.max(np.abs(audio))\n",
    "    \n",
    "    # Apply K-weighting filter\n",
    "    weighted_audio = k_weighting_filter(audio, sample_rate)\n",
    "    \n",
    "    # Compute RMS of the weighted audio\n",
    "    rms_weighted = np.sqrt(np.mean(weighted_audio**2))\n",
    "    \n",
    "    # Compute LUFS\n",
    "    lufs = 20 * np.log10(rms_weighted)\n",
    "    \n",
    "    # Compute peak amplitude\n",
    "    peak_amplitude = np.max(np.abs(audio))\n",
    "    \n",
    "    # Compute crest factor\n",
    "    crest_factor = 20 * np.log10(peak_amplitude / rms_weighted)\n",
    "    \n",
    "    # Compute RMS-based loudness\n",
    "    rms = np.sqrt(np.mean(audio**2))\n",
    "    loudness = 20 * np.log10(rms)\n",
    "    \n",
    "    return lufs, peak_amplitude, crest_factor, loudness\n",
    "\n",
    "# Example usage for the sine wave file\n",
    "file_path_sine = \"Data/sine_wave_44100Hz_16bit_1min.wav\"\n",
    "lufs_sine, peak_amplitude_sine, crest_factor_sine, loudness_sine = compute_audio_metrics(file_path_sine)\n",
    "print(f\"Sine Wave - LUFS: {lufs_sine:.2f} dB, Peak Amplitude: {peak_amplitude_sine:.2f}, Crest Factor: {crest_factor_sine:.2f} dB, Loudness: {loudness_sine:.2f} dB\")\n",
    "\n",
    "# Example usage for the music file\n",
    "file_path_music = \"Data/CTHS3_Acid_Bass_Loop_01_C_123.wav\"\n",
    "lufs_music, peak_amplitude_music, crest_factor_music, loudness_music = compute_audio_metrics(file_path_music)\n",
    "print(f\"Music File - LUFS: {lufs_music:.2f} dB, Peak Amplitude: {peak_amplitude_music:.2f}, Crest Factor: {crest_factor_music:.2f} dB, Loudness: {loudness_music:.2f} dB\")"
   ]
  }
 ],
 "metadata": {
  "kernelspec": {
   "display_name": "venv",
   "language": "python",
   "name": "python3"
  },
  "language_info": {
   "codemirror_mode": {
    "name": "ipython",
    "version": 3
   },
   "file_extension": ".py",
   "mimetype": "text/x-python",
   "name": "python",
   "nbconvert_exporter": "python",
   "pygments_lexer": "ipython3",
   "version": "3.12.2"
  }
 },
 "nbformat": 4,
 "nbformat_minor": 5
}
