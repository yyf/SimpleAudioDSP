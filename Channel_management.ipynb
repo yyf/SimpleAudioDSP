{
 "cells": [
  {
   "cell_type": "code",
   "execution_count": 8,
   "id": "115981ad",
   "metadata": {},
   "outputs": [
    {
     "name": "stdout",
     "output_type": "stream",
     "text": [
      "Channel Count: 2\n"
     ]
    },
    {
     "name": "stderr",
     "output_type": "stream",
     "text": [
      "/var/folders/b0/m80gf4wx3pvdbp860pz1fqwc0000gn/T/ipykernel_57196/765551201.py:11: WavFileWarning: Chunk (non-data) not understood, skipping it.\n",
      "  sample_rate, audio = wav_read(file_path)\n"
     ]
    }
   ],
   "source": [
    "# Check channel count of a WAV file\n",
    "from scipy.io.wavfile import read as wav_read, write as wav_write\n",
    "\n",
    "def get_channel_count(file_path):\n",
    "    \"\"\"\n",
    "    Get the channel count of a WAV file.\n",
    "    :param file_path: Path to the WAV file\n",
    "    :return: Number of channels\n",
    "    \"\"\"\n",
    "    # Load the audio file\n",
    "    sample_rate, audio = wav_read(file_path)\n",
    "    \n",
    "    # Check the shape of the audio data\n",
    "    if len(audio.shape) > 1:\n",
    "        return audio.shape[1]  # Stereo or multi-channel\n",
    "    else:\n",
    "        return 1  # Mono\n",
    "\n",
    "# Example usage\n",
    "music_file_path = \"Data/CTHS3_Acid_Bass_Loop_01_C_123.wav\"\n",
    "music_channel_count = get_channel_count(music_file_path)\n",
    "print(f\"Channel Count: {music_channel_count}\")"
   ]
  },
  {
   "cell_type": "code",
   "execution_count": 9,
   "id": "95e23047",
   "metadata": {},
   "outputs": [
    {
     "name": "stdout",
     "output_type": "stream",
     "text": [
      "Downmixed to mono.\n"
     ]
    },
    {
     "name": "stderr",
     "output_type": "stream",
     "text": [
      "/var/folders/b0/m80gf4wx3pvdbp860pz1fqwc0000gn/T/ipykernel_57196/1076059340.py:2: WavFileWarning: Chunk (non-data) not understood, skipping it.\n",
      "  sample_rate, music_audio = wav_read(music_file_path)\n"
     ]
    }
   ],
   "source": [
    "# Downmix to mono if stereo\n",
    "sample_rate, music_audio = wav_read(music_file_path)\n",
    "if music_channel_count > 1:\n",
    "    # Assuming the first channel is the left and the second is the right\n",
    "    music_audio_mono = music_audio.mean(axis=1)\n",
    "    print(\"Downmixed to mono.\")\n",
    "else:\n",
    "    music_audio_mono = music_audio\n",
    "    print(\"Already mono.\")\n",
    "# Save the downmixed audio if needed\n",
    "wav_write(\"Output/downmixed_music_mono.wav\", sample_rate, music_audio_mono.astype(music_audio.dtype))"
   ]
  },
  {
   "cell_type": "code",
   "execution_count": 14,
   "id": "13e7d5aa",
   "metadata": {},
   "outputs": [
    {
     "name": "stdout",
     "output_type": "stream",
     "text": [
      "Upmixed to stereo using interleaved samples.\n",
      "Upmixed Channel Count: 2\n"
     ]
    }
   ],
   "source": [
    "# Upmix to stereo using interleaved samples if mono\n",
    "import numpy as np\n",
    "\n",
    "sine_file_path = \"Data/sine_wave_44100Hz_16bit_1min.wav\"\n",
    "sine_sample_rate, sine_audio = wav_read(sine_file_path)\n",
    "sine_channel_count = get_channel_count(sine_file_path)\n",
    "\n",
    "if sine_channel_count == 1:\n",
    "    # Ensure the mono signal has an even number of samples for interleaving\n",
    "    if len(sine_audio) % 2 != 0:\n",
    "        sine_audio = sine_audio[:-1]  # Drop the last sample if odd\n",
    "\n",
    "    # Interleave samples for stereo upmixing\n",
    "    interleaved = np.empty((len(sine_audio) * 2,), dtype=sine_audio.dtype)\n",
    "    interleaved[0::2] = sine_audio  # Left channel gets even indices\n",
    "    interleaved[1::2] = sine_audio  # Right channel gets odd indices\n",
    "\n",
    "    # Reshape into a stereo signal\n",
    "    sine_audio_stereo = interleaved.reshape(-1, 2)\n",
    "    print(\"Upmixed to stereo using interleaved samples.\")\n",
    "elif sine_channel_count > 2:\n",
    "    # If more than 2 channels, just take the first two channels\n",
    "    sine_audio_stereo = sine_audio[:, :2]\n",
    "    print(\"More than 2 channels, taking the first two.\")\n",
    "else:\n",
    "    sine_audio_stereo = sine_audio\n",
    "    print(\"Already stereo.\")\n",
    "\n",
    "# Save the upmixed audio if needed\n",
    "wav_write(\"Output/upmixed_sine_stereo_interleaved_fixed2.wav\", sine_sample_rate, sine_audio_stereo.astype(sine_audio.dtype))\n",
    "\n",
    "# Check the channel count of the upmixed audio\n",
    "sine_channel_count_upmixed = get_channel_count(\"Output/upmixed_sine_stereo_interleaved_fixed2.wav\")\n",
    "print(f\"Upmixed Channel Count: {sine_channel_count_upmixed}\")"
   ]
  }
 ],
 "metadata": {
  "kernelspec": {
   "display_name": "venv",
   "language": "python",
   "name": "python3"
  },
  "language_info": {
   "codemirror_mode": {
    "name": "ipython",
    "version": 3
   },
   "file_extension": ".py",
   "mimetype": "text/x-python",
   "name": "python",
   "nbconvert_exporter": "python",
   "pygments_lexer": "ipython3",
   "version": "3.12.2"
  }
 },
 "nbformat": 4,
 "nbformat_minor": 5
}
