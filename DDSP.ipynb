{
 "cells": [
  {
   "cell_type": "code",
   "execution_count": null,
   "id": "c716b875",
   "metadata": {},
   "outputs": [
    {
     "ename": "ModuleNotFoundError",
     "evalue": "No module named 'ddsp'",
     "output_type": "error",
     "traceback": [
      "\u001b[31m---------------------------------------------------------------------------\u001b[39m",
      "\u001b[31mModuleNotFoundError\u001b[39m                       Traceback (most recent call last)",
      "\u001b[36mCell\u001b[39m\u001b[36m \u001b[39m\u001b[32mIn[3]\u001b[39m\u001b[32m, line 8\u001b[39m\n\u001b[32m      1\u001b[39m \u001b[38;5;66;03m# Differential DSP: https://github.com/magenta/ddsp\u001b[39;00m\n\u001b[32m      2\u001b[39m \u001b[38;5;66;03m# DDSP makes traditional DSP components (e.g., oscillators, filters, reverbs) differentiable, \u001b[39;00m\n\u001b[32m      3\u001b[39m \u001b[38;5;66;03m# allowing them to be trained using gradient-based optimization.\u001b[39;00m\n\u001b[32m      4\u001b[39m \u001b[38;5;66;03m# DDSP models are more interpretable than black-box neural networks because they use components \u001b[39;00m\n\u001b[32m      5\u001b[39m \u001b[38;5;66;03m# based on physical and mathematical principles (e.g., harmonic synthesis, spectral modeling).\u001b[39;00m\n\u001b[32m      6\u001b[39m \u001b[38;5;66;03m# DDSP excels in tasks like: pitch shifting, timbre transfer, audio synthesis, audio effects\u001b[39;00m\n\u001b[32m----> \u001b[39m\u001b[32m8\u001b[39m \u001b[38;5;28;01mimport\u001b[39;00m\u001b[38;5;250m \u001b[39m\u001b[34;01mddsp\u001b[39;00m\n\u001b[32m      9\u001b[39m \u001b[38;5;28;01mimport\u001b[39;00m\u001b[38;5;250m \u001b[39m\u001b[34;01mddsp\u001b[39;00m\u001b[34;01m.\u001b[39;00m\u001b[34;01mtraining\u001b[39;00m\n\u001b[32m     10\u001b[39m \u001b[38;5;28;01mimport\u001b[39;00m\u001b[38;5;250m \u001b[39m\u001b[34;01mnumpy\u001b[39;00m\u001b[38;5;250m \u001b[39m\u001b[38;5;28;01mas\u001b[39;00m\u001b[38;5;250m \u001b[39m\u001b[34;01mnp\u001b[39;00m\n",
      "\u001b[31mModuleNotFoundError\u001b[39m: No module named 'ddsp'"
     ]
    }
   ],
   "source": [
    "# Differential DSP: https://github.com/magenta/ddsp\n",
    "# DDSP makes traditional DSP components (e.g., oscillators, filters, reverbs) differentiable, \n",
    "# allowing them to be trained using gradient-based optimization.\n",
    "# DDSP models are more interpretable than black-box neural networks because they use components \n",
    "# based on physical and mathematical principles (e.g., harmonic synthesis, spectral modeling).\n",
    "# DDSP excels in tasks like: pitch shifting, timbre transfer, audio synthesis, audio effects\n",
    "\n",
    "# ToDo - move to colab as downgrading to python 3.11 doesn't resolve the crepe dependency issue (error: resolution-too-deep)\n",
    "\n",
    "import ddsp\n",
    "import ddsp.training\n",
    "import numpy as np\n",
    "import tensorflow as tf\n",
    "import librosa\n",
    "import soundfile as sf\n",
    "\n",
    "audio_path = './Data/5sec_440Hz.wav'  \n",
    "\n",
    "# Resample to 16kHz\n",
    "audio, sr = librosa.load(audio_path, sr=16000) \n",
    "\n",
    "# Convert audio to a tensor\n",
    "audio_tensor = tf.convert_to_tensor(audio, dtype=tf.float32)\n",
    "\n",
    "# Extract fundamental frequency (f0) and loudness\n",
    "f0_hz, loudness_db = ddsp.training.metrics.compute_f0_loudness(audio_tensor, sr)\n",
    "\n",
    "# Apply pitch shifting (e.g., shift up by 2 semitones)\n",
    "# A semitone is the smallest musical interval commonly used in Western music. \n",
    "# It represents the pitch difference between two adjacent notes in a 12-tone equal temperament scale \n",
    "semitone_shift = 2\n",
    "f0_hz_shifted = f0_hz * (2 ** (semitone_shift / 12.0))\n",
    "\n",
    "# Synthesize the audio with the shifted pitch\n",
    "\n",
    "harmonic = ddsp.synths.Harmonic()\n",
    "synthesized_audio = harmonic(f0_hz=f0_hz_shifted, amplitudes=tf.ones_like(f0_hz))\n",
    "\n",
    "# Convert the synthesized audio to a NumPy array\n",
    "synthesized_audio_np = synthesized_audio.numpy()\n",
    "\n",
    "output_path = './Output/ddsp_output_pitch_shifted.wav'\n",
    "sf.write(output_path, synthesized_audio_np, sr)\n"
   ]
  }
 ],
 "metadata": {
  "kernelspec": {
   "display_name": "venv",
   "language": "python",
   "name": "python3"
  },
  "language_info": {
   "codemirror_mode": {
    "name": "ipython",
    "version": 3
   },
   "file_extension": ".py",
   "mimetype": "text/x-python",
   "name": "python",
   "nbconvert_exporter": "python",
   "pygments_lexer": "ipython3",
   "version": "3.12.2"
  }
 },
 "nbformat": 4,
 "nbformat_minor": 5
}
