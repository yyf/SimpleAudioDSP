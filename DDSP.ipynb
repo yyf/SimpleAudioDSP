{
 "cells": [
  {
   "cell_type": "code",
   "execution_count": null,
   "id": "c716b875",
   "metadata": {},
   "outputs": [],
   "source": [
    "# Differential DSP: https://github.com/magenta/ddsp\n",
    "# DDSP makes traditional DSP components (e.g., oscillators, filters, reverbs) differentiable, \n",
    "# allowing them to be trained using gradient-based optimization.\n",
    "# DDSP models are more interpretable than black-box neural networks because they use components \n",
    "# based on physical and mathematical principles (e.g., harmonic synthesis, spectral modeling).\n",
    "# DDSP excels in tasks like: pitch shifting, timbre transfer, audio synthesis, audio effects\n",
    "\n",
    "import ddsp\n",
    "import ddsp.training\n",
    "import numpy as np\n",
    "import tensorflow as tf\n",
    "import librosa\n",
    "import soundfile as sf\n",
    "\n",
    "audio_path = './Data/5sec_440Hz.wav'  \n",
    "\n",
    "# Resample to 16kHz\n",
    "audio, sr = librosa.load(audio_path, sr=16000) \n",
    "\n",
    "# Convert audio to a tensor\n",
    "audio_tensor = tf.convert_to_tensor(audio, dtype=tf.float32)\n",
    "\n",
    "# Extract fundamental frequency (f0) and loudness\n",
    "f0_hz, loudness_db = ddsp.training.metrics.compute_f0_loudness(audio_tensor, sr)\n",
    "\n",
    "# Apply pitch shifting (e.g., shift up by 2 semitones)\n",
    "# A semitone is the smallest musical interval commonly used in Western music. \n",
    "# It represents the pitch difference between two adjacent notes in a 12-tone equal temperament scale \n",
    "semitone_shift = 2\n",
    "f0_hz_shifted = f0_hz * (2 ** (semitone_shift / 12.0))\n",
    "\n",
    "# Synthesize the audio with the shifted pitch\n",
    "harmonic = ddsp.synths.Harmonic()\n",
    "synthesized_audio = harmonic(f0_hz=f0_hz_shifted, amplitudes=tf.ones_like(f0_hz))\n",
    "\n",
    "# Convert the synthesized audio to a NumPy array\n",
    "synthesized_audio_np = synthesized_audio.numpy()\n",
    "\n",
    "output_path = './Output/ddsp_output_pitch_shifted.wav'\n",
    "sf.write(output_path, synthesized_audio_np, sr)\n"
   ]
  }
 ],
 "metadata": {
  "kernelspec": {
   "display_name": "venv",
   "language": "python",
   "name": "python3"
  },
  "language_info": {
   "codemirror_mode": {
    "name": "ipython",
    "version": 3
   },
   "file_extension": ".py",
   "mimetype": "text/x-python",
   "name": "python",
   "nbconvert_exporter": "python",
   "pygments_lexer": "ipython3",
   "version": "3.12.2"
  }
 },
 "nbformat": 4,
 "nbformat_minor": 5
}
