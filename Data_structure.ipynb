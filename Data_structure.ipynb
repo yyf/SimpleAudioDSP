{
 "cells": [
  {
   "cell_type": "code",
   "execution_count": null,
   "id": "3220d09c",
   "metadata": {},
   "outputs": [],
   "source": [
    "\"\"\"\n",
    "Common data structures used in audio DSP tasks\n",
    "- Array: singal representation\n",
    "- Circular buffers: delay lines or real-time audio processing\n",
    "- Linked lists: dynamic DSP processing chains\n",
    "- Queues: Managing audio buffers in real-time\n",
    "- Matrices: multi-channel audio processing\n",
    "- Graphs: signal flow representation\n",
    "- Heaps: priority-based audio scheduling\n",
    "- Hash tables: storing filter coefficients or presets\n",
    "- Time-frequency represetations: spectrogram or STFT\n",
    "- Trees: decision trees in audio classification\n",
    "- Stacks: managing audio effects \n",
    "\"\"\""
   ]
  },
  {
   "cell_type": "code",
   "execution_count": null,
   "id": "f14c2423",
   "metadata": {},
   "outputs": [],
   "source": [
    "# Array\n",
    "import numpy as np\n",
    "audio_signal = np.array([0.1, 0.2, 0.3, 0.4])  # Example mono signal"
   ]
  },
  {
   "cell_type": "code",
   "execution_count": null,
   "id": "49513598",
   "metadata": {},
   "outputs": [],
   "source": [
    "class CircularBuffer:\n",
    "    def __init__(self, size):\n",
    "        self.buffer = [0] * size\n",
    "        self.size = size\n",
    "        self.index = 0\n",
    "\n",
    "    def write(self, value):\n",
    "        self.buffer[self.index] = value\n",
    "        self.index = (self.index + 1) % self.size\n",
    "\n",
    "    def read(self):\n",
    "        return self.buffer\n",
    "\n",
    "# Example usage\n",
    "buffer = CircularBuffer(4)\n",
    "buffer.write(0.1)\n",
    "buffer.write(0.2)\n",
    "print(buffer.read())  # [0.1, 0.2, 0, 0]"
   ]
  },
  {
   "cell_type": "code",
   "execution_count": null,
   "id": "4d6e66d1",
   "metadata": {},
   "outputs": [],
   "source": [
    "class Node:\n",
    "    def __init__(self, data):\n",
    "        self.data = data\n",
    "        self.next = None\n",
    "\n",
    "# Example: Chain of DSP effects\n",
    "reverb = Node(\"Reverb\")\n",
    "eq = Node(\"EQ\")\n",
    "reverb.next = eq"
   ]
  },
  {
   "cell_type": "code",
   "execution_count": null,
   "id": "2e818b1c",
   "metadata": {},
   "outputs": [],
   "source": [
    "from collections import deque\n",
    "# Fixed-size queue for audio samples\n",
    "audio_queue = deque(maxlen=4)\n",
    "audio_queue.append(0.1)\n",
    "audio_queue.append(0.2)\n",
    "print(list(audio_queue))  # [0.1, 0.2]"
   ]
  },
  {
   "cell_type": "code",
   "execution_count": null,
   "id": "ee885f06",
   "metadata": {},
   "outputs": [],
   "source": [
    "import numpy as np\n",
    "# Stereo audio signal (2 channels, 4 samples each)\n",
    "stereo_signal = np.array([[0.1, 0.2, 0.3, 0.4], [0.5, 0.6, 0.7, 0.8]])\n",
    "print(stereo_signal)"
   ]
  },
  {
   "cell_type": "code",
   "execution_count": null,
   "id": "b9872a4a",
   "metadata": {},
   "outputs": [],
   "source": [
    "import networkx as nx\n",
    "# Nodes as DSP blocks, edges as signal paths\n",
    "G = nx.DiGraph()\n",
    "G.add_edges_from([(\"Input\", \"EQ\"), (\"EQ\", \"Reverb\"), (\"Reverb\", \"Output\")])\n",
    "print(G.edges)"
   ]
  },
  {
   "cell_type": "code",
   "execution_count": 9,
   "id": "fdfa2beb",
   "metadata": {},
   "outputs": [
    {
     "name": "stdout",
     "output_type": "stream",
     "text": [
      "(0, 'Start recording')\n"
     ]
    }
   ],
   "source": [
    "import heapq\n",
    "# Priority queue for audio events\n",
    "events = []\n",
    "heapq.heappush(events, (1, \"Play sound\"))\n",
    "heapq.heappush(events, (0, \"Start recording\"))\n",
    "print(heapq.heappop(events))  # (0, 'Start recording')"
   ]
  },
  {
   "cell_type": "code",
   "execution_count": 10,
   "id": "831a5a4a",
   "metadata": {},
   "outputs": [
    {
     "name": "stdout",
     "output_type": "stream",
     "text": [
      "[0.1, 0.2, 0.3]\n"
     ]
    }
   ],
   "source": [
    "filters = {\"lowpass\": [0.1, 0.2, 0.3], \"highpass\": [0.3, 0.2, 0.1]}\n",
    "print(filters[\"lowpass\"])"
   ]
  },
  {
   "cell_type": "code",
   "execution_count": 12,
   "id": "b3f85b93",
   "metadata": {},
   "outputs": [
    {
     "name": "stdout",
     "output_type": "stream",
     "text": [
      "(129, 4)\n"
     ]
    },
    {
     "data": {
      "text/plain": [
       "<matplotlib.colorbar.Colorbar at 0x133bcaed0>"
      ]
     },
     "execution_count": 12,
     "metadata": {},
     "output_type": "execute_result"
    },
    {
     "data": {
      "image/png": "[encoded data removed]",
      "text/plain": [
       "<Figure size 640x480 with 2 Axes>"
      ]
     },
     "metadata": {},
     "output_type": "display_data"
    }
   ],
   "source": [
    "import scipy.signal\n",
    "import numpy as np\n",
    "# Generate a simple sine wave\n",
    "fs = 1000  # Sampling frequency\n",
    "t = np.linspace(0, 1, fs, endpoint=False)\n",
    "sine_wave = np.sin(2 * np.pi * 50 * t)\n",
    "f, t, Sxx = scipy.signal.spectrogram(sine_wave, fs)\n",
    "print(Sxx.shape)  # Spectrogram matrix\n",
    "# Plot the spectrogram\n",
    "import matplotlib.pyplot as plt\n",
    "plt.pcolormesh(t, f, 10 * np.log10(Sxx))\n",
    "plt.ylabel('Frequency [Hz]')\n",
    "plt.xlabel('Time [s]')\n",
    "plt.title('Spectrogram')\n",
    "plt.colorbar(label='Intensity [dB]')"
   ]
  },
  {
   "cell_type": "code",
   "execution_count": 13,
   "id": "3b37b64f",
   "metadata": {},
   "outputs": [],
   "source": [
    "class TreeNode:\n",
    "    def __init__(self, value):\n",
    "        self.value = value\n",
    "        self.left = None\n",
    "        self.right = None\n",
    "\n",
    "# Example: Binary tree for audio classification\n",
    "root = TreeNode(\"Audio\")\n",
    "root.left = TreeNode(\"Music\")\n",
    "root.right = TreeNode(\"Speech\")"
   ]
  },
  {
   "cell_type": "code",
   "execution_count": 14,
   "id": "b7a344b5",
   "metadata": {},
   "outputs": [
    {
     "name": "stdout",
     "output_type": "stream",
     "text": [
      "Applying Equalizer\n",
      "Applying Reverb\n"
     ]
    }
   ],
   "source": [
    "effects_stack = []\n",
    "\n",
    "# Push effects onto the stack\n",
    "effects_stack.append(\"Reverb\")\n",
    "effects_stack.append(\"Equalizer\")\n",
    "\n",
    "# Apply effects in reverse order\n",
    "while effects_stack:\n",
    "    effect = effects_stack.pop()\n",
    "    print(f\"Applying {effect}\")"
   ]
  }
 ],
 "metadata": {
  "kernelspec": {
   "display_name": "venv",
   "language": "python",
   "name": "python3"
  },
  "language_info": {
   "codemirror_mode": {
    "name": "ipython",
    "version": 3
   },
   "file_extension": ".py",
   "mimetype": "text/x-python",
   "name": "python",
   "nbconvert_exporter": "python",
   "pygments_lexer": "ipython3",
   "version": "3.12.2"
  }
 },
 "nbformat": 4,
 "nbformat_minor": 5
}
