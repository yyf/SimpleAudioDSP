{
 "cells": [
  {
   "cell_type": "code",
   "execution_count": null,
   "id": "d88eeaf9",
   "metadata": {},
   "outputs": [
    {
     "name": "stdout",
     "output_type": "stream",
     "text": [
      "Sine wave file generated: sine_wave_44100Hz_16bit_1min.wav\n"
     ]
    }
   ],
   "source": [
    "# Generate a 1-minute sine wave at 44100 Hz, 16-bit PCM\n",
    "import numpy as np\n",
    "from scipy.io.wavfile import write as wavFileWriter\n",
    "\n",
    "# Parameters\n",
    "sample_rate = 44100  # Hz\n",
    "duration = 60  # seconds\n",
    "frequency = 440.0  # Hz (A4 note)\n",
    "amplitude = 32767  # Max amplitude for 16-bit audio\n",
    "\n",
    "# Generate time values\n",
    "t = np.linspace(0, duration, int(sample_rate * duration), endpoint=False)\n",
    "\n",
    "# Generate sine wave\n",
    "sine_wave = (0.5 * amplitude * np.sin(2 * np.pi * frequency * t)).astype(np.int16)\n",
    "\n",
    "# Write to WAV file\n",
    "wavFileWriter(\"Data/sine_wave_44100Hz_16bit_1min.wav\", sample_rate, sine_wave)\n",
    "\n",
    "print(\"Sine wave file generated: sine_wave_44100Hz_16bit_1min.wav\")"
   ]
  }
 ],
 "metadata": {
  "kernelspec": {
   "display_name": ".venv",
   "language": "python",
   "name": "python3"
  },
  "language_info": {
   "codemirror_mode": {
    "name": "ipython",
    "version": 3
   },
   "file_extension": ".py",
   "mimetype": "text/x-python",
   "name": "python",
   "nbconvert_exporter": "python",
   "pygments_lexer": "ipython3",
   "version": "3.9.6"
  }
 },
 "nbformat": 4,
 "nbformat_minor": 5
}
